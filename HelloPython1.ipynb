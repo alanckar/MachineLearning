{
  "nbformat": 4,
  "nbformat_minor": 0,
  "metadata": {
    "colab": {
      "name": "HelloPython.ipynb",
      "version": "0.3.2",
      "views": {},
      "default_view": {},
      "provenance": [],
      "collapsed_sections": []
    },
    "kernelspec": {
      "name": "python3",
      "display_name": "Python 3"
    }
  },
  "cells": [
    {
      "metadata": {
        "id": "poxMUGtTfPYd",
        "colab_type": "text"
      },
      "source": [
        "# Start with a joke."
      ],
      "cell_type": "markdown"
    },
    {
      "metadata": {
        "id": "jemYKgm4eycE",
        "colab_type": "code",
        "colab": {
          "autoexec": {
            "startup": false,
            "wait_interval": 0
          },
          "output_extras": [
            {
              "item_id": 1
            }
          ],
          "base_uri": "https://localhost:8080/",
          "height": 68
        },
        "outputId": "deebccb2-500a-440a-f484-30ee84d24c61",
        "executionInfo": {
          "status": "ok",
          "timestamp": 1516332964302,
          "user_tz": 300,
          "elapsed": 358,
          "user": {
            "displayName": "Alankar Padman",
            "photoUrl": "//lh4.googleusercontent.com/-osV9QQnMi6Y/AAAAAAAAAAI/AAAAAAAAABM/2St10bsp0X8/s50-c-k-no/photo.jpg",
            "userId": "104591019587695155386"
          }
        }
      },
      "source": [
        "print(\"A Machine Learning model walks into a bar..\")\n",
        "print(\"Barternder: What will you have?\")\n",
        "print(\"ML Model: I will have what everybody else is having.\")"
      ],
      "cell_type": "code",
      "execution_count": 2,
      "outputs": [
        {
          "output_type": "stream",
          "text": [
            "A Machine Learning model walks into a bar..\n",
            "Barternder: What will you have?\n",
            "ML Model: I will have what everybody else is having.\n"
          ],
          "name": "stdout"
        }
      ]
    }
  ]
}
